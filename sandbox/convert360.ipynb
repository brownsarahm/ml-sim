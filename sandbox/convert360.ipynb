{
 "cells": [
  {
   "cell_type": "code",
   "execution_count": 10,
   "metadata": {},
   "outputs": [],
   "source": [
    "import aif360.datasets\n",
    "import numpy as np\n",
    "import pandas as pd\n",
    "import seaborn as sns\n",
    "import matplotlib.pyplot as plt\n",
    "from sklearn.model_selection import train_test_split\n",
    "from sklearn.naive_bayes import GaussianNB\n",
    "import mlsim\n",
    "\n",
    "# convert our data frame to ibm fairness 360 structured data set\n",
    "def convertToDataset(df, label_names, protected_attribute_names):\n",
    "    return aif360.datasets.StructuredDataset(df, label_names, protected_attribute_names)"
   ]
  },
  {
   "cell_type": "code",
   "execution_count": 11,
   "metadata": {},
   "outputs": [
    {
     "data": {
      "text/plain": [
       "               instance weights features                                \\\n",
       "                                                                         \n",
       "                                       a    z    y        x0        x1   \n",
       "instance names                                                           \n",
       "0                           1.0      0.0  0.0  0.0  1.497132  5.308181   \n",
       "1                           1.0      0.0  1.0  1.0  5.829927  2.465479   \n",
       "2                           1.0      1.0  0.0  0.0  6.743000  0.875603   \n",
       "3                           1.0      1.0  0.0  0.0  3.843835  0.149506   \n",
       "4                           1.0      1.0  0.0  0.0  2.367965  0.202727   \n",
       "...                         ...      ...  ...  ...       ...       ...   \n",
       "195                         1.0      1.0  0.0  0.0  5.214354  1.873182   \n",
       "196                         1.0      0.0  0.0  0.0  2.627262  6.506507   \n",
       "197                         1.0      0.0  0.0  0.0  1.435842  5.306934   \n",
       "198                         1.0      1.0  0.0  0.0  4.939777  0.810479   \n",
       "199                         1.0      1.0  0.0  0.0  4.634419 -0.075062   \n",
       "\n",
       "                                              \n",
       "                                              \n",
       "                      x2        x3        x4  \n",
       "instance names                                \n",
       "0               3.510680  6.711924  1.219632  \n",
       "1               2.347704  5.806446  1.402372  \n",
       "2               0.109771  5.204860  1.848039  \n",
       "3               1.812710  4.678715  3.411339  \n",
       "4               0.994015  4.194888  1.782743  \n",
       "...                  ...       ...       ...  \n",
       "195             2.174692  5.273695  2.887482  \n",
       "196             4.867611  6.613251  2.711402  \n",
       "197             3.662955  7.734347  2.773040  \n",
       "198            -0.111157  4.779049  2.853922  \n",
       "199             2.341305  7.500336  1.082359  \n",
       "\n",
       "[200 rows x 9 columns]"
      ]
     },
     "execution_count": 11,
     "metadata": {},
     "output_type": "execute_result"
    }
   ],
   "source": [
    "rho_a = .4 \n",
    "p_a = [1-rho_a, rho_a]\n",
    "# portion of allocation of target variable\n",
    "rho_z = .2 \n",
    "p_z = [1-rho_z, rho_z]\n",
    "# error rate for each group, 0, x means only error in one group\n",
    "beta = [0, .2] \n",
    "# number of samples\n",
    "N = 200 \n",
    "# num features\n",
    "d = 5\n",
    "\n",
    "# mu where [a][z]\n",
    "# 5 dim 2 classes for z\n",
    "#mu = [[[1,5,3,6,3],[5,1,1,5,2]], [[3,6,2,3,1],[3,2,4,1,1]]]\n",
    "mu = [[[1,5,3,6,3],[5,1,1,5,2]], [[5,1,1,5,2],[1,5,3,6,3]]]\n",
    "\n",
    "d_shared = 3 # indices to keep per protected var value\n",
    "cov = np.eye(d)\n",
    "a = np.random.choice([0,1], p=p_a, size=N)\n",
    "z = np.random.choice([0,1], p=p_z, size=N)\n",
    "x = [np.random.multivariate_normal(mu[a_i][z_i],cov) for a_i, z_i in zip(a,z)]\n",
    "\n",
    "x = np.asarray(x)\n",
    "y = z\n",
    "data = np.asarray([a,z,y]).T\n",
    "df = pd.DataFrame(data=data, columns = ['a','z','y'])\n",
    "\n",
    "var_list = []\n",
    "for i in range(d):\n",
    "    var = 'x' + str(i)\n",
    "    df[var] = x[:,i]\n",
    "    var_list.append(var)\n",
    "    \n",
    "#df.head()\n",
    "convertToDataset(df, [], [])"
   ]
  },
  {
   "cell_type": "code",
   "execution_count": null,
   "metadata": {},
   "outputs": [],
   "source": []
  }
 ],
 "metadata": {
  "kernelspec": {
   "display_name": "Python 3",
   "language": "python",
   "name": "python3"
  },
  "language_info": {
   "codemirror_mode": {
    "name": "ipython",
    "version": 3
   },
   "file_extension": ".py",
   "mimetype": "text/x-python",
   "name": "python",
   "nbconvert_exporter": "python",
   "pygments_lexer": "ipython3",
   "version": "3.7.3"
  }
 },
 "nbformat": 4,
 "nbformat_minor": 4
}
