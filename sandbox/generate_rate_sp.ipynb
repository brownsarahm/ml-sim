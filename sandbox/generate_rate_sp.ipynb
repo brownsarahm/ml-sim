{
 "cells": [
  {
   "cell_type": "markdown",
   "metadata": {},
   "source": [
    "\n",
    "## To induce SP in rates\n",
    "\n",
    "The Berekely admissions version of SP is what we will call rate based.  This requires \n",
    "\n",
    "\n",
    "2 grouping varibles & a binary\n",
    " - binary `decision` variable that will have a rate that flips (eg admission decision)\n",
    " - 1 `protected class` grouping variable that that will be how the rates are compared, eg gender (likely 2 levels, can possibly generalize)\n",
    " - 1 `explanatory` grouping variable eg has class imbalance\n",
    " \n",
    "An open problem is to determine if we can define a mixed case where we use continuous variables to define the decsion variable.\n",
    "\n",
    "\n"
   ]
  },
  {
   "cell_type": "code",
   "execution_count": 1,
   "metadata": {},
   "outputs": [],
   "source": [
    "import numpy as np\n",
    "import pandas as pd\n",
    "import string\n",
    "import matplotlib.pylab as plt"
   ]
  },
  {
   "cell_type": "markdown",
   "metadata": {},
   "source": [
    "The causal explanation for rate-based SP is that the application rates by gender varied in a way that was correlated with the department size and/or acceptance rate.  Here we create a model that will, for most samples, have SP for some departments. We only set the portion of applications to each department, the rate of each gender applying to each department and each department's acceptance rate.  "
   ]
  },
  {
   "cell_type": "code",
   "execution_count": 2,
   "metadata": {},
   "outputs": [
    {
     "data": {
      "text/html": [
       "<div>\n",
       "<style scoped>\n",
       "    .dataframe tbody tr th:only-of-type {\n",
       "        vertical-align: middle;\n",
       "    }\n",
       "\n",
       "    .dataframe tbody tr th {\n",
       "        vertical-align: top;\n",
       "    }\n",
       "\n",
       "    .dataframe thead th {\n",
       "        text-align: right;\n",
       "    }\n",
       "</style>\n",
       "<table border=\"1\" class=\"dataframe\">\n",
       "  <thead>\n",
       "    <tr style=\"text-align: right;\">\n",
       "      <th></th>\n",
       "      <th>department</th>\n",
       "      <th>gender</th>\n",
       "      <th>decision</th>\n",
       "      <th>race</th>\n",
       "    </tr>\n",
       "  </thead>\n",
       "  <tbody>\n",
       "    <tr>\n",
       "      <th>0</th>\n",
       "      <td>0</td>\n",
       "      <td>F</td>\n",
       "      <td>0</td>\n",
       "      <td>W</td>\n",
       "    </tr>\n",
       "    <tr>\n",
       "      <th>1</th>\n",
       "      <td>0</td>\n",
       "      <td>F</td>\n",
       "      <td>0</td>\n",
       "      <td>W</td>\n",
       "    </tr>\n",
       "    <tr>\n",
       "      <th>2</th>\n",
       "      <td>3</td>\n",
       "      <td>F</td>\n",
       "      <td>0</td>\n",
       "      <td>H</td>\n",
       "    </tr>\n",
       "    <tr>\n",
       "      <th>3</th>\n",
       "      <td>1</td>\n",
       "      <td>F</td>\n",
       "      <td>1</td>\n",
       "      <td>W</td>\n",
       "    </tr>\n",
       "    <tr>\n",
       "      <th>4</th>\n",
       "      <td>3</td>\n",
       "      <td>M</td>\n",
       "      <td>0</td>\n",
       "      <td>W</td>\n",
       "    </tr>\n",
       "  </tbody>\n",
       "</table>\n",
       "</div>"
      ],
      "text/plain": [
       "   department gender  decision race\n",
       "0           0      F         0    W\n",
       "1           0      F         0    W\n",
       "2           3      F         0    H\n",
       "3           1      F         1    W\n",
       "4           3      M         0    W"
      ]
     },
     "execution_count": 2,
     "metadata": {},
     "output_type": "execute_result"
    }
   ],
   "source": [
    "p_dept = [.15,.15,.1,.6]\n",
    "p_gender_dept = [[.7, .3],[.8,.2],[.85,.15],[.2,.8]]\n",
    "gender_list = ['F','M']\n",
    "p_admit_dept = [[.15,.85], [.18,.82], [.25,.75],[.3,.7]]\n",
    "# need to have higher accept in the larger subgroup, larger subgroup should have opposite protected class balance\n",
    "N = 1000\n",
    "\n",
    "d = np.random.choice(list(range(len(p_dept))), size=N, p =p_dept)\n",
    "g = [np.random.choice(gender_list, p =p_gender_dept[d_i]) for d_i in d]\n",
    "a = [np.random.choice([1,0],p = p_admit_dept[d_i]) for d_i in d]\n",
    "data = [[d_i,g_i,a_i] for d_i, g_i,a_i in zip(d,g,a)]\n",
    "\n",
    "df = pd.DataFrame(data = data, columns=['department','gender','decision'])\n",
    "\n",
    "p_race_dept = [[.8,.1,.1], [.7,.13,.17],[.5,.2,.3],[.85,.07,.08]]\n",
    "race_list = ['W','B','H']\n",
    "\n",
    "r = [np.random.choice(race_list, p =p_race_dept[d_i]) for d_i in d]\n",
    "df['race'] = r\n",
    "df.head()"
   ]
  },
  {
   "cell_type": "markdown",
   "metadata": {},
   "source": [
    "We can check that the probabilities match what we set.  First the per-department admission rate."
   ]
  },
  {
   "cell_type": "code",
   "execution_count": 3,
   "metadata": {},
   "outputs": [
    {
     "data": {
      "text/html": [
       "<div>\n",
       "<style scoped>\n",
       "    .dataframe tbody tr th:only-of-type {\n",
       "        vertical-align: middle;\n",
       "    }\n",
       "\n",
       "    .dataframe tbody tr th {\n",
       "        vertical-align: top;\n",
       "    }\n",
       "\n",
       "    .dataframe thead th {\n",
       "        text-align: right;\n",
       "    }\n",
       "</style>\n",
       "<table border=\"1\" class=\"dataframe\">\n",
       "  <thead>\n",
       "    <tr style=\"text-align: right;\">\n",
       "      <th></th>\n",
       "      <th>decision</th>\n",
       "      <th>expected</th>\n",
       "    </tr>\n",
       "    <tr>\n",
       "      <th>department</th>\n",
       "      <th></th>\n",
       "      <th></th>\n",
       "    </tr>\n",
       "  </thead>\n",
       "  <tbody>\n",
       "    <tr>\n",
       "      <th>0</th>\n",
       "      <td>0.112782</td>\n",
       "      <td>0.15</td>\n",
       "    </tr>\n",
       "    <tr>\n",
       "      <th>1</th>\n",
       "      <td>0.185430</td>\n",
       "      <td>0.18</td>\n",
       "    </tr>\n",
       "    <tr>\n",
       "      <th>2</th>\n",
       "      <td>0.200000</td>\n",
       "      <td>0.25</td>\n",
       "    </tr>\n",
       "    <tr>\n",
       "      <th>3</th>\n",
       "      <td>0.313099</td>\n",
       "      <td>0.30</td>\n",
       "    </tr>\n",
       "  </tbody>\n",
       "</table>\n",
       "</div>"
      ],
      "text/plain": [
       "            decision  expected\n",
       "department                    \n",
       "0           0.112782      0.15\n",
       "1           0.185430      0.18\n",
       "2           0.200000      0.25\n",
       "3           0.313099      0.30"
      ]
     },
     "execution_count": 3,
     "metadata": {},
     "output_type": "execute_result"
    }
   ],
   "source": [
    "actual_admit_dept = df.groupby(['department']).mean()\n",
    "expected_admit_dept = [p[0] for p in p_admit_dept]\n",
    "actual_admit_dept['expected'] = expected_admit_dept\n",
    "actual_admit_dept"
   ]
  },
  {
   "cell_type": "code",
   "execution_count": 4,
   "metadata": {},
   "outputs": [
    {
     "data": {
      "text/html": [
       "<div>\n",
       "<style scoped>\n",
       "    .dataframe tbody tr th:only-of-type {\n",
       "        vertical-align: middle;\n",
       "    }\n",
       "\n",
       "    .dataframe tbody tr th {\n",
       "        vertical-align: top;\n",
       "    }\n",
       "\n",
       "    .dataframe thead th {\n",
       "        text-align: right;\n",
       "    }\n",
       "</style>\n",
       "<table border=\"1\" class=\"dataframe\">\n",
       "  <thead>\n",
       "    <tr style=\"text-align: right;\">\n",
       "      <th>gender</th>\n",
       "      <th>F</th>\n",
       "      <th>M</th>\n",
       "    </tr>\n",
       "    <tr>\n",
       "      <th>department</th>\n",
       "      <th></th>\n",
       "      <th></th>\n",
       "    </tr>\n",
       "  </thead>\n",
       "  <tbody>\n",
       "    <tr>\n",
       "      <th>0</th>\n",
       "      <td>91</td>\n",
       "      <td>42</td>\n",
       "    </tr>\n",
       "    <tr>\n",
       "      <th>1</th>\n",
       "      <td>129</td>\n",
       "      <td>22</td>\n",
       "    </tr>\n",
       "    <tr>\n",
       "      <th>2</th>\n",
       "      <td>73</td>\n",
       "      <td>17</td>\n",
       "    </tr>\n",
       "    <tr>\n",
       "      <th>3</th>\n",
       "      <td>132</td>\n",
       "      <td>494</td>\n",
       "    </tr>\n",
       "  </tbody>\n",
       "</table>\n",
       "</div>"
      ],
      "text/plain": [
       "gender        F    M\n",
       "department          \n",
       "0            91   42\n",
       "1           129   22\n",
       "2            73   17\n",
       "3           132  494"
      ]
     },
     "execution_count": 4,
     "metadata": {},
     "output_type": "execute_result"
    }
   ],
   "source": [
    "actual_app_dept = df.groupby(['department'])['gender'].value_counts().unstack()\n",
    "actual_app_dept"
   ]
  },
  {
   "cell_type": "code",
   "execution_count": 5,
   "metadata": {},
   "outputs": [
    {
     "data": {
      "text/html": [
       "<div>\n",
       "<style scoped>\n",
       "    .dataframe tbody tr th:only-of-type {\n",
       "        vertical-align: middle;\n",
       "    }\n",
       "\n",
       "    .dataframe tbody tr th {\n",
       "        vertical-align: top;\n",
       "    }\n",
       "\n",
       "    .dataframe thead th {\n",
       "        text-align: right;\n",
       "    }\n",
       "</style>\n",
       "<table border=\"1\" class=\"dataframe\">\n",
       "  <thead>\n",
       "    <tr style=\"text-align: right;\">\n",
       "      <th></th>\n",
       "      <th>F</th>\n",
       "      <th>M</th>\n",
       "    </tr>\n",
       "  </thead>\n",
       "  <tbody>\n",
       "    <tr>\n",
       "      <th>0</th>\n",
       "      <td>105.0</td>\n",
       "      <td>45.0</td>\n",
       "    </tr>\n",
       "    <tr>\n",
       "      <th>1</th>\n",
       "      <td>120.0</td>\n",
       "      <td>30.0</td>\n",
       "    </tr>\n",
       "    <tr>\n",
       "      <th>2</th>\n",
       "      <td>85.0</td>\n",
       "      <td>15.0</td>\n",
       "    </tr>\n",
       "    <tr>\n",
       "      <th>3</th>\n",
       "      <td>120.0</td>\n",
       "      <td>480.0</td>\n",
       "    </tr>\n",
       "  </tbody>\n",
       "</table>\n",
       "</div>"
      ],
      "text/plain": [
       "       F      M\n",
       "0  105.0   45.0\n",
       "1  120.0   30.0\n",
       "2   85.0   15.0\n",
       "3  120.0  480.0"
      ]
     },
     "execution_count": 5,
     "metadata": {},
     "output_type": "execute_result"
    }
   ],
   "source": [
    "expected_app_dept_dat = [[p_d[0]*n_d, p_d[1]*n_d] for p_d,n_d in zip(p_gender_dept,[p*N for p in p_dept])]\n",
    "expected_app_dept = pd.DataFrame(data = expected_app_dept_dat, columns = gender_list)\n",
    "expected_app_dept"
   ]
  },
  {
   "cell_type": "markdown",
   "metadata": {},
   "source": [
    "Next we can look for SP"
   ]
  },
  {
   "cell_type": "code",
   "execution_count": 6,
   "metadata": {},
   "outputs": [
    {
     "data": {
      "text/plain": [
       "gender\n",
       "F    0.204706\n",
       "M    0.295652\n",
       "Name: decision, dtype: float64"
      ]
     },
     "execution_count": 6,
     "metadata": {},
     "output_type": "execute_result"
    }
   ],
   "source": [
    "df.groupby('gender')['decision'].mean()"
   ]
  },
  {
   "cell_type": "code",
   "execution_count": 7,
   "metadata": {},
   "outputs": [
    {
     "data": {
      "text/html": [
       "<div>\n",
       "<style scoped>\n",
       "    .dataframe tbody tr th:only-of-type {\n",
       "        vertical-align: middle;\n",
       "    }\n",
       "\n",
       "    .dataframe tbody tr th {\n",
       "        vertical-align: top;\n",
       "    }\n",
       "\n",
       "    .dataframe thead tr th {\n",
       "        text-align: left;\n",
       "    }\n",
       "\n",
       "    .dataframe thead tr:last-of-type th {\n",
       "        text-align: right;\n",
       "    }\n",
       "</style>\n",
       "<table border=\"1\" class=\"dataframe\">\n",
       "  <thead>\n",
       "    <tr>\n",
       "      <th></th>\n",
       "      <th colspan=\"4\" halign=\"left\">decision</th>\n",
       "    </tr>\n",
       "    <tr>\n",
       "      <th>department</th>\n",
       "      <th>0</th>\n",
       "      <th>1</th>\n",
       "      <th>2</th>\n",
       "      <th>3</th>\n",
       "    </tr>\n",
       "    <tr>\n",
       "      <th>gender</th>\n",
       "      <th></th>\n",
       "      <th></th>\n",
       "      <th></th>\n",
       "      <th></th>\n",
       "    </tr>\n",
       "  </thead>\n",
       "  <tbody>\n",
       "    <tr>\n",
       "      <th>F</th>\n",
       "      <td>0.120879</td>\n",
       "      <td>0.193798</td>\n",
       "      <td>0.178082</td>\n",
       "      <td>0.287879</td>\n",
       "    </tr>\n",
       "    <tr>\n",
       "      <th>M</th>\n",
       "      <td>0.095238</td>\n",
       "      <td>0.136364</td>\n",
       "      <td>0.294118</td>\n",
       "      <td>0.319838</td>\n",
       "    </tr>\n",
       "  </tbody>\n",
       "</table>\n",
       "</div>"
      ],
      "text/plain": [
       "            decision                              \n",
       "department         0         1         2         3\n",
       "gender                                            \n",
       "F           0.120879  0.193798  0.178082  0.287879\n",
       "M           0.095238  0.136364  0.294118  0.319838"
      ]
     },
     "execution_count": 7,
     "metadata": {},
     "output_type": "execute_result"
    }
   ],
   "source": [
    "df.groupby(['gender','department']).mean().unstack()"
   ]
  },
  {
   "cell_type": "markdown",
   "metadata": {},
   "source": [
    "To detect SP, we compare which group is the highest in the overall to to which group is highest in each of the departments. "
   ]
  },
  {
   "cell_type": "code",
   "execution_count": 8,
   "metadata": {},
   "outputs": [
    {
     "data": {
      "text/plain": [
       "array([1.8331219 , 2.05259128, 0.87448057, 1.29996087])"
      ]
     },
     "execution_count": 8,
     "metadata": {},
     "output_type": "execute_result"
    }
   ],
   "source": [
    "overall_dat = df.groupby('gender')['decision'].mean()\n",
    "per_dept_dat = df.groupby(['gender','department']).mean().unstack()\n",
    "\n",
    "overall_dat.values[0]/overall_dat.values[1]\n",
    "per_dept_dat.values[0]/per_dept_dat.values[1] /(overall_dat.values[0]/overall_dat.values[1])"
   ]
  },
  {
   "cell_type": "code",
   "execution_count": 9,
   "metadata": {},
   "outputs": [
    {
     "data": {
      "text/plain": [
       "array([1.8331219 , 2.05259128, 0.87448057, 1.29996087])"
      ]
     },
     "execution_count": 9,
     "metadata": {},
     "output_type": "execute_result"
    }
   ],
   "source": [
    "per_dept_dat.values[0]/per_dept_dat.values[1] /(overall_dat.values[0]/overall_dat.values[1])"
   ]
  },
  {
   "cell_type": "code",
   "execution_count": 10,
   "metadata": {},
   "outputs": [],
   "source": [
    "df.to_csv('synthetic_admission_high_sp.csv',index=False)"
   ]
  },
  {
   "cell_type": "code",
   "execution_count": 11,
   "metadata": {},
   "outputs": [
    {
     "name": "stdout",
     "output_type": "stream",
     "text": [
      "overall more admitted:  M\n",
      "per dept more addmitted: ['F', 'F', 'M', 'M']\n"
     ]
    },
    {
     "data": {
      "text/plain": [
       "[True, True, False, False]"
      ]
     },
     "execution_count": 11,
     "metadata": {},
     "output_type": "execute_result"
    }
   ],
   "source": [
    "# now detect and compare which trends\n",
    "overall = df.groupby('gender')['decision'].mean().idxmax()\n",
    "print('overall more admitted: ', overall)\n",
    "\n",
    "per_dept = [gender_list[g] for g in np.argmax(df.groupby(['gender','department']).mean().unstack().values,axis=0)]\n",
    "print('per dept more addmitted:', per_dept)\n",
    "# it's sp for each dept that is not the same as the overall\n",
    "[not(dept==overall) for dept in per_dept]"
   ]
  },
  {
   "cell_type": "markdown",
   "metadata": {},
   "source": [
    "Now, we can run it a bunch more times and count how many SP in each trial, to see how reliable it is."
   ]
  },
  {
   "cell_type": "code",
   "execution_count": 12,
   "metadata": {},
   "outputs": [
    {
     "data": {
      "text/plain": [
       "[2, 2, 2, 4, 3, 3, 0, 2, 3, 3, 2, 2, 3, 3, 2, 0, 2, 2, 0, 3]"
      ]
     },
     "execution_count": 12,
     "metadata": {},
     "output_type": "execute_result"
    }
   ],
   "source": [
    "sp_occ = []\n",
    "\n",
    "for i in range(20):\n",
    "    p_dept = [.15,.15,.1,.6]\n",
    "    p_gender_dept = [[.7, .3],[.8,.2],[.85,.15],[.2,.8]]\n",
    "    gender_list = ['F','M']\n",
    "    p_admit_dept = [[.15,.85], [.18,.82], [.25,.75],[.3,.7]]\n",
    "    # need to have higher accept in the larger subgroup, larger subgroup should have opposite protected class balance\n",
    "    N = 1000\n",
    "\n",
    "    d = np.random.choice(list(range(len(p_dept))), size=N, p =p_dept)\n",
    "    g = [np.random.choice(gender_list, p =p_gender_dept[d_i]) for d_i in d]\n",
    "    a = [np.random.choice([1,0],p = p_admit_dept[d_i]) for d_i in d]\n",
    "    data = [[d_i,g_i,a_i] for d_i, g_i,a_i in zip(d,g,a)]\n",
    "\n",
    "    df = pd.DataFrame(data = data, columns=['department','gender','decision'])\n",
    "\n",
    "    overall = df.groupby('gender')['decision'].mean().idxmax()\n",
    "    per_dept = [gender_list[g] for g in np.argmax(df.groupby(['gender','department']).mean().unstack().values,axis=0)]\n",
    "\n",
    "\n",
    "    sp_occ.append(sum([not(dept==overall) for dept in per_dept]))\n",
    "    \n",
    "sp_occ"
   ]
  },
  {
   "cell_type": "markdown",
   "metadata": {},
   "source": [
    "We see from above that it generates SP most of the time but a varialbe number of times for the exact same settings to this sampling method does not reliably induce SP, it does show that, with no malintent that SP can occur.  "
   ]
  },
  {
   "cell_type": "markdown",
   "metadata": {},
   "source": [
    "# intentional SP\n",
    "\n",
    "To more reliably induce rate based SP we should sample less independently.  \n"
   ]
  },
  {
   "cell_type": "code",
   "execution_count": 13,
   "metadata": {},
   "outputs": [
    {
     "data": {
      "text/html": [
       "<div>\n",
       "<style scoped>\n",
       "    .dataframe tbody tr th:only-of-type {\n",
       "        vertical-align: middle;\n",
       "    }\n",
       "\n",
       "    .dataframe tbody tr th {\n",
       "        vertical-align: top;\n",
       "    }\n",
       "\n",
       "    .dataframe thead th {\n",
       "        text-align: right;\n",
       "    }\n",
       "</style>\n",
       "<table border=\"1\" class=\"dataframe\">\n",
       "  <thead>\n",
       "    <tr style=\"text-align: right;\">\n",
       "      <th></th>\n",
       "      <th>department</th>\n",
       "      <th>gender</th>\n",
       "      <th>decision</th>\n",
       "    </tr>\n",
       "  </thead>\n",
       "  <tbody>\n",
       "    <tr>\n",
       "      <th>0</th>\n",
       "      <td>1</td>\n",
       "      <td>M</td>\n",
       "      <td>0</td>\n",
       "    </tr>\n",
       "    <tr>\n",
       "      <th>1</th>\n",
       "      <td>1</td>\n",
       "      <td>F</td>\n",
       "      <td>0</td>\n",
       "    </tr>\n",
       "    <tr>\n",
       "      <th>2</th>\n",
       "      <td>3</td>\n",
       "      <td>M</td>\n",
       "      <td>0</td>\n",
       "    </tr>\n",
       "    <tr>\n",
       "      <th>3</th>\n",
       "      <td>0</td>\n",
       "      <td>F</td>\n",
       "      <td>1</td>\n",
       "    </tr>\n",
       "    <tr>\n",
       "      <th>4</th>\n",
       "      <td>3</td>\n",
       "      <td>M</td>\n",
       "      <td>1</td>\n",
       "    </tr>\n",
       "  </tbody>\n",
       "</table>\n",
       "</div>"
      ],
      "text/plain": [
       "   department gender  decision\n",
       "0           1      M         0\n",
       "1           1      F         0\n",
       "2           3      M         0\n",
       "3           0      F         1\n",
       "4           3      M         1"
      ]
     },
     "execution_count": 13,
     "metadata": {},
     "output_type": "execute_result"
    }
   ],
   "source": [
    "p_dept = [.15,.2,.1,.55]\n",
    "p_gender_dept = [[.7, .3],[.8,.2],[.85,.15],[.2,.8]]\n",
    "gender_list = ['F','M']\n",
    "p_admit_dept_gender = [{'F':.18,'M':.12},{'F':.17,'M':.1},\n",
    "                       {'F':.30,'M':.27},{'F':.35,'M':.30}] \n",
    "# need to have higher accept in the larger subgroup, larger subgroup should have opposite protected class balance\n",
    "N = 1000\n",
    "\n",
    "d = np.random.choice(list(range(len(p_dept))), size=N, p =p_dept)\n",
    "g = [np.random.choice(gender_list, p =p_gender_dept[d_i]) for d_i in d]\n",
    "p_admit =[ p_admit_dept_gender[d_i][g_i] for d_i,g_i in zip(d,g)]\n",
    "p_admit\n",
    "a = [np.random.choice([1,0], p = [p,1-p]) for p in p_admit]\n",
    "data = [[d_i,g_i,a_i] for d_i, g_i,a_i in zip(d,g,a)]\n",
    "\n",
    "df = pd.DataFrame(data = data, columns=['department','gender','decision'])\n",
    "df.head()"
   ]
  },
  {
   "cell_type": "code",
   "execution_count": 14,
   "metadata": {},
   "outputs": [
    {
     "data": {
      "text/plain": [
       "0.1"
      ]
     },
     "execution_count": 14,
     "metadata": {},
     "output_type": "execute_result"
    }
   ],
   "source": [
    "p_admit_dept_gender[1]['M']"
   ]
  },
  {
   "cell_type": "code",
   "execution_count": 352,
   "metadata": {},
   "outputs": [
    {
     "data": {
      "text/plain": [
       "gender\n",
       "F    0.222222\n",
       "M    0.242144\n",
       "Name: decision, dtype: float64"
      ]
     },
     "execution_count": 352,
     "metadata": {},
     "output_type": "execute_result"
    }
   ],
   "source": [
    "df.groupby('gender')['decision'].mean()"
   ]
  },
  {
   "cell_type": "code",
   "execution_count": 358,
   "metadata": {},
   "outputs": [
    {
     "data": {
      "text/html": [
       "<div>\n",
       "<style scoped>\n",
       "    .dataframe tbody tr th:only-of-type {\n",
       "        vertical-align: middle;\n",
       "    }\n",
       "\n",
       "    .dataframe tbody tr th {\n",
       "        vertical-align: top;\n",
       "    }\n",
       "\n",
       "    .dataframe thead tr th {\n",
       "        text-align: left;\n",
       "    }\n",
       "\n",
       "    .dataframe thead tr:last-of-type th {\n",
       "        text-align: right;\n",
       "    }\n",
       "</style>\n",
       "<table border=\"1\" class=\"dataframe\">\n",
       "  <thead>\n",
       "    <tr>\n",
       "      <th></th>\n",
       "      <th colspan=\"4\" halign=\"left\">decision</th>\n",
       "      <th>total</th>\n",
       "    </tr>\n",
       "    <tr>\n",
       "      <th>department</th>\n",
       "      <th>0</th>\n",
       "      <th>1</th>\n",
       "      <th>2</th>\n",
       "      <th>3</th>\n",
       "      <th></th>\n",
       "    </tr>\n",
       "    <tr>\n",
       "      <th>gender</th>\n",
       "      <th></th>\n",
       "      <th></th>\n",
       "      <th></th>\n",
       "      <th></th>\n",
       "      <th></th>\n",
       "    </tr>\n",
       "  </thead>\n",
       "  <tbody>\n",
       "    <tr>\n",
       "      <th>F</th>\n",
       "      <td>0.212121</td>\n",
       "      <td>0.136364</td>\n",
       "      <td>0.240506</td>\n",
       "      <td>0.361905</td>\n",
       "      <td>0.222222</td>\n",
       "    </tr>\n",
       "    <tr>\n",
       "      <th>M</th>\n",
       "      <td>0.024390</td>\n",
       "      <td>0.071429</td>\n",
       "      <td>0.250000</td>\n",
       "      <td>0.285047</td>\n",
       "      <td>0.242144</td>\n",
       "    </tr>\n",
       "  </tbody>\n",
       "</table>\n",
       "</div>"
      ],
      "text/plain": [
       "            decision                                   total\n",
       "department         0         1         2         3          \n",
       "gender                                                      \n",
       "F           0.212121  0.136364  0.240506  0.361905  0.222222\n",
       "M           0.024390  0.071429  0.250000  0.285047  0.242144"
      ]
     },
     "execution_count": 358,
     "metadata": {},
     "output_type": "execute_result"
    }
   ],
   "source": [
    "gen_dep = df.groupby(['gender','department']).mean().unstack() #.reset_index()\n",
    "gen_dep['total'] = df.groupby('gender')['decision'].mean().values\n",
    "gen_dep"
   ]
  },
  {
   "cell_type": "code",
   "execution_count": 17,
   "metadata": {},
   "outputs": [
    {
     "data": {
      "text/plain": [
       "array([9.47664258, 2.08023862, 1.04826973, 1.38345418])"
      ]
     },
     "execution_count": 17,
     "metadata": {},
     "output_type": "execute_result"
    }
   ],
   "source": [
    "overall_dat = df.groupby('gender')['decision'].mean()\n",
    "per_dept_dat = df.groupby(['gender','department']).mean().unstack()\n",
    "\n",
    "overall_dat.values[0]/overall_dat.values[1]\n",
    "per_dept_dat.values[0]/per_dept_dat.values[1] /(overall_dat.values[0]/overall_dat.values[1])"
   ]
  },
  {
   "cell_type": "code",
   "execution_count": 18,
   "metadata": {},
   "outputs": [
    {
     "data": {
      "text/plain": [
       "[True, True, False, True]"
      ]
     },
     "execution_count": 18,
     "metadata": {},
     "output_type": "execute_result"
    }
   ],
   "source": [
    "overall = df.groupby('gender')['decision'].mean().idxmax()\n",
    "\n",
    "per_dept = [gender_list[g] for g in np.argmax(df.groupby(['gender','department']).mean().unstack().values,axis=0)]\n",
    "\n",
    "\n",
    "[not(dept==overall) for dept in per_dept]"
   ]
  },
  {
   "cell_type": "markdown",
   "metadata": {},
   "source": [
    "We can try to use 3 categories and do an ordering swap detection, maybe?"
   ]
  },
  {
   "cell_type": "code",
   "execution_count": 19,
   "metadata": {},
   "outputs": [],
   "source": [
    "\n",
    "p_race_dept = [[.8,.1,.1], [.7,.13,.17],[.5,.2,.3],[.85,.07,.08]]\n",
    "race_list = ['W','B','H']\n",
    "\n",
    "r = [np.random.choice(race_list, p =p_race_dept[d_i]) for d_i in d]\n",
    "df['race'] = r"
   ]
  },
  {
   "cell_type": "code",
   "execution_count": 20,
   "metadata": {},
   "outputs": [
    {
     "data": {
      "text/plain": [
       "race\n",
       "B    0.234694\n",
       "H    0.187500\n",
       "W    0.240310\n",
       "Name: decision, dtype: float64"
      ]
     },
     "execution_count": 20,
     "metadata": {},
     "output_type": "execute_result"
    }
   ],
   "source": [
    "df.groupby('race')['decision'].mean()"
   ]
  },
  {
   "cell_type": "code",
   "execution_count": 21,
   "metadata": {},
   "outputs": [
    {
     "data": {
      "text/html": [
       "<div>\n",
       "<style scoped>\n",
       "    .dataframe tbody tr th:only-of-type {\n",
       "        vertical-align: middle;\n",
       "    }\n",
       "\n",
       "    .dataframe tbody tr th {\n",
       "        vertical-align: top;\n",
       "    }\n",
       "\n",
       "    .dataframe thead tr th {\n",
       "        text-align: left;\n",
       "    }\n",
       "\n",
       "    .dataframe thead tr:last-of-type th {\n",
       "        text-align: right;\n",
       "    }\n",
       "</style>\n",
       "<table border=\"1\" class=\"dataframe\">\n",
       "  <thead>\n",
       "    <tr>\n",
       "      <th></th>\n",
       "      <th colspan=\"4\" halign=\"left\">decision</th>\n",
       "    </tr>\n",
       "    <tr>\n",
       "      <th>department</th>\n",
       "      <th>0</th>\n",
       "      <th>1</th>\n",
       "      <th>2</th>\n",
       "      <th>3</th>\n",
       "    </tr>\n",
       "    <tr>\n",
       "      <th>race</th>\n",
       "      <th></th>\n",
       "      <th></th>\n",
       "      <th></th>\n",
       "      <th></th>\n",
       "    </tr>\n",
       "  </thead>\n",
       "  <tbody>\n",
       "    <tr>\n",
       "      <th>B</th>\n",
       "      <td>0.153846</td>\n",
       "      <td>0.166667</td>\n",
       "      <td>0.117647</td>\n",
       "      <td>0.368421</td>\n",
       "    </tr>\n",
       "    <tr>\n",
       "      <th>H</th>\n",
       "      <td>0.142857</td>\n",
       "      <td>0.105263</td>\n",
       "      <td>0.241379</td>\n",
       "      <td>0.234043</td>\n",
       "    </tr>\n",
       "    <tr>\n",
       "      <th>W</th>\n",
       "      <td>0.159292</td>\n",
       "      <td>0.115854</td>\n",
       "      <td>0.285714</td>\n",
       "      <td>0.301339</td>\n",
       "    </tr>\n",
       "  </tbody>\n",
       "</table>\n",
       "</div>"
      ],
      "text/plain": [
       "            decision                              \n",
       "department         0         1         2         3\n",
       "race                                              \n",
       "B           0.153846  0.166667  0.117647  0.368421\n",
       "H           0.142857  0.105263  0.241379  0.234043\n",
       "W           0.159292  0.115854  0.285714  0.301339"
      ]
     },
     "execution_count": 21,
     "metadata": {},
     "output_type": "execute_result"
    }
   ],
   "source": [
    "df.groupby(['race','department']).mean().unstack()"
   ]
  },
  {
   "cell_type": "markdown",
   "metadata": {},
   "source": []
  },
  {
   "cell_type": "code",
   "execution_count": 22,
   "metadata": {},
   "outputs": [
    {
     "data": {
      "text/html": [
       "<div>\n",
       "<style scoped>\n",
       "    .dataframe tbody tr th:only-of-type {\n",
       "        vertical-align: middle;\n",
       "    }\n",
       "\n",
       "    .dataframe tbody tr th {\n",
       "        vertical-align: top;\n",
       "    }\n",
       "\n",
       "    .dataframe thead th {\n",
       "        text-align: right;\n",
       "    }\n",
       "</style>\n",
       "<table border=\"1\" class=\"dataframe\">\n",
       "  <thead>\n",
       "    <tr style=\"text-align: right;\">\n",
       "      <th></th>\n",
       "      <th>department</th>\n",
       "      <th>gender</th>\n",
       "      <th>decision</th>\n",
       "      <th>race</th>\n",
       "    </tr>\n",
       "  </thead>\n",
       "  <tbody>\n",
       "    <tr>\n",
       "      <th>0</th>\n",
       "      <td>1</td>\n",
       "      <td>M</td>\n",
       "      <td>0</td>\n",
       "      <td>B</td>\n",
       "    </tr>\n",
       "    <tr>\n",
       "      <th>1</th>\n",
       "      <td>1</td>\n",
       "      <td>F</td>\n",
       "      <td>0</td>\n",
       "      <td>W</td>\n",
       "    </tr>\n",
       "    <tr>\n",
       "      <th>2</th>\n",
       "      <td>3</td>\n",
       "      <td>M</td>\n",
       "      <td>0</td>\n",
       "      <td>W</td>\n",
       "    </tr>\n",
       "    <tr>\n",
       "      <th>3</th>\n",
       "      <td>0</td>\n",
       "      <td>F</td>\n",
       "      <td>1</td>\n",
       "      <td>W</td>\n",
       "    </tr>\n",
       "    <tr>\n",
       "      <th>4</th>\n",
       "      <td>3</td>\n",
       "      <td>M</td>\n",
       "      <td>1</td>\n",
       "      <td>W</td>\n",
       "    </tr>\n",
       "  </tbody>\n",
       "</table>\n",
       "</div>"
      ],
      "text/plain": [
       "   department gender  decision race\n",
       "0           1      M         0    B\n",
       "1           1      F         0    W\n",
       "2           3      M         0    W\n",
       "3           0      F         1    W\n",
       "4           3      M         1    W"
      ]
     },
     "execution_count": 22,
     "metadata": {},
     "output_type": "execute_result"
    }
   ],
   "source": [
    "df.head()"
   ]
  },
  {
   "cell_type": "markdown",
   "metadata": {},
   "source": [
    "# Generalizing this framework\n",
    "\n",
    "First we provide general variables and separate the set parts from the sampling. "
   ]
  },
  {
   "cell_type": "code",
   "execution_count": 23,
   "metadata": {},
   "outputs": [],
   "source": [
    "# must have imbalance\n",
    "p_explanatory = [.15,.2,.1,.55]\n",
    "#protected, given explantory, largest explantory should have fipped rates\n",
    "# larger subgroup should have opposite protected class balance\n",
    "p_protected_explanatory = [[.7, .3],[.8,.2],[.85,.15],[.2,.8]]\n",
    "\n",
    "# need to have higher accept in the larger subgroup,\n",
    "p_outcome_all = [{'F':.18,'M':.12},{'F':.17,'M':.1},\n",
    "                       {'F':.30,'M':.27},{'F':.35,'M':.30}]\n",
    "N = 1000\n",
    "\n",
    "def gen_rate(N, p_explanatory, p_protected_explanatory,p_outcome_all):\n",
    "    \"\"\"\n",
    "    sampler that takes in probabilities \n",
    "    \n",
    "    Parameters\n",
    "    ----------\n",
    "    N : scalar\n",
    "        number of samples to draw\n",
    "    \"\"\"\n",
    "    protected_list = ['F','M']\n",
    "    explantory = np.random.choice(list(range(len(p_explanatory))),\n",
    "                                    size=N, p =p_explanatory)\n",
    "    protected = [np.random.choice(protected_list, p=p_protected_explanatory[e])\n",
    "                                    for e in explantory]\n",
    "    p_outcome =[ p_outcome_all[e][p] for e,p in zip(explantory,protected)]\n",
    "\n",
    "    outcome = [np.random.choice([1,0], p = [p,1-p]) for p in p_outcome]\n",
    "    data = [[e,p,o] for e,p,o in zip(explantory,protected,outcome)]\n",
    "\n",
    "    df = pd.DataFrame(data = data, columns=['explanatory','protected','outcome'])\n",
    "    \n",
    "    return df"
   ]
  },
  {
   "cell_type": "code",
   "execution_count": 24,
   "metadata": {},
   "outputs": [
    {
     "data": {
      "text/html": [
       "<div>\n",
       "<style scoped>\n",
       "    .dataframe tbody tr th:only-of-type {\n",
       "        vertical-align: middle;\n",
       "    }\n",
       "\n",
       "    .dataframe tbody tr th {\n",
       "        vertical-align: top;\n",
       "    }\n",
       "\n",
       "    .dataframe thead th {\n",
       "        text-align: right;\n",
       "    }\n",
       "</style>\n",
       "<table border=\"1\" class=\"dataframe\">\n",
       "  <thead>\n",
       "    <tr style=\"text-align: right;\">\n",
       "      <th></th>\n",
       "      <th>explanatory</th>\n",
       "      <th>protected</th>\n",
       "      <th>outcome</th>\n",
       "    </tr>\n",
       "  </thead>\n",
       "  <tbody>\n",
       "    <tr>\n",
       "      <th>0</th>\n",
       "      <td>3</td>\n",
       "      <td>M</td>\n",
       "      <td>1</td>\n",
       "    </tr>\n",
       "    <tr>\n",
       "      <th>1</th>\n",
       "      <td>3</td>\n",
       "      <td>M</td>\n",
       "      <td>0</td>\n",
       "    </tr>\n",
       "    <tr>\n",
       "      <th>2</th>\n",
       "      <td>0</td>\n",
       "      <td>M</td>\n",
       "      <td>0</td>\n",
       "    </tr>\n",
       "    <tr>\n",
       "      <th>3</th>\n",
       "      <td>3</td>\n",
       "      <td>M</td>\n",
       "      <td>1</td>\n",
       "    </tr>\n",
       "    <tr>\n",
       "      <th>4</th>\n",
       "      <td>0</td>\n",
       "      <td>F</td>\n",
       "      <td>1</td>\n",
       "    </tr>\n",
       "  </tbody>\n",
       "</table>\n",
       "</div>"
      ],
      "text/plain": [
       "   explanatory protected  outcome\n",
       "0            3         M        1\n",
       "1            3         M        0\n",
       "2            0         M        0\n",
       "3            3         M        1\n",
       "4            0         F        1"
      ]
     },
     "execution_count": 24,
     "metadata": {},
     "output_type": "execute_result"
    }
   ],
   "source": [
    "df_gen = gen_rate(N, p_explanatory, p_protected_explanatory,p_outcome_all)\n",
    "df_gen.head()"
   ]
  },
  {
   "cell_type": "markdown",
   "metadata": {},
   "source": [
    "Next, we need to determin how to sample the probabilities such that we get the balances needed and how to parameterize. To facilitate this, we'll make a sample detector for testing. "
   ]
  },
  {
   "cell_type": "code",
   "execution_count": 322,
   "metadata": {},
   "outputs": [
    {
     "data": {
      "text/plain": [
       "array(['M', 'F'], dtype=object)"
      ]
     },
     "execution_count": 322,
     "metadata": {},
     "output_type": "execute_result"
    }
   ],
   "source": [
    "df_gen.groupby('protected')['outcome'].mean().reset_index().sort_values(by='outcome',ascending=False)['protected'].values"
   ]
  },
  {
   "cell_type": "code",
   "execution_count": 347,
   "metadata": {},
   "outputs": [
    {
     "data": {
      "text/plain": [
       "[0, 1, 2, 3]"
      ]
     },
     "execution_count": 347,
     "metadata": {},
     "output_type": "execute_result"
    }
   ],
   "source": [
    "list(set(df_gen['explanatory']))"
   ]
  },
  {
   "cell_type": "code",
   "execution_count": 340,
   "metadata": {},
   "outputs": [
    {
     "data": {
      "text/plain": [
       "1    M\n",
       "0    F\n",
       "Name: protected, dtype: object"
      ]
     },
     "execution_count": 340,
     "metadata": {},
     "output_type": "execute_result"
    }
   ],
   "source": [
    "df_gen.groupby(['protected','explanatory'])['outcome'].mean().unstack().reset_index().sort_values(by=1,ascending=False)['protected']"
   ]
  },
  {
   "cell_type": "code",
   "execution_count": 25,
   "metadata": {},
   "outputs": [],
   "source": [
    "\n",
    "def check_sp_rate(df_rate):\n",
    "    \"\"\"rate specific sp detector\"\"\"\n",
    "    overall = df_rate.groupby('protected')['outcome'].mean().idxmax()\n",
    "\n",
    "    per_group = df_rate.groupby(['protected','explanatory']).mean().unstack().idxmax()\n",
    "\n",
    "    \n",
    "    return [not(group==overall) for group in per_group]\n"
   ]
  },
  {
   "cell_type": "code",
   "execution_count": 26,
   "metadata": {},
   "outputs": [
    {
     "data": {
      "text/plain": [
       "[True, False, False, True]"
      ]
     },
     "execution_count": 26,
     "metadata": {},
     "output_type": "execute_result"
    }
   ],
   "source": [
    "check_sp_rate(df_gen)"
   ]
  },
  {
   "cell_type": "code",
   "execution_count": 27,
   "metadata": {},
   "outputs": [
    {
     "data": {
      "text/plain": [
       "2"
      ]
     },
     "execution_count": 27,
     "metadata": {},
     "output_type": "execute_result"
    }
   ],
   "source": [
    "sum(check_sp_rate(df_gen))"
   ]
  },
  {
   "cell_type": "code",
   "execution_count": 28,
   "metadata": {},
   "outputs": [],
   "source": [
    "sp_counts = []\n",
    "for i in range(100):\n",
    "    sp_counts.append(check_sp_rate(gen_rate(N, p_explanatory, p_protected_explanatory,p_outcome_all)))\n",
    "\n",
    "sp_counts_df = pd.DataFrame(data = sp_counts,columns = set(df_gen['explanatory']))\n",
    "\n",
    "sp_counts_df['count'] = sp_counts_df.sum(axis=1)"
   ]
  },
  {
   "cell_type": "code",
   "execution_count": 29,
   "metadata": {},
   "outputs": [
    {
     "data": {
      "text/plain": [
       "<matplotlib.axes._subplots.AxesSubplot at 0x7fcdabfc5550>"
      ]
     },
     "execution_count": 29,
     "metadata": {},
     "output_type": "execute_result"
    },
    {
     "data": {
      "image/png": "[encoded data removed]",
      "text/plain": [
       "<Figure size 432x288 with 1 Axes>"
      ]
     },
     "metadata": {},
     "output_type": "display_data"
    }
   ],
   "source": [
    "sp_counts_df['count'].hist(bins=len(set(df_gen['explanatory']))+1,width = .6,align='mid')"
   ]
  },
  {
   "cell_type": "code",
   "execution_count": 30,
   "metadata": {},
   "outputs": [
    {
     "data": {
      "text/html": [
       "<div>\n",
       "<style scoped>\n",
       "    .dataframe tbody tr th:only-of-type {\n",
       "        vertical-align: middle;\n",
       "    }\n",
       "\n",
       "    .dataframe tbody tr th {\n",
       "        vertical-align: top;\n",
       "    }\n",
       "\n",
       "    .dataframe thead tr th {\n",
       "        text-align: left;\n",
       "    }\n",
       "\n",
       "    .dataframe thead tr:last-of-type th {\n",
       "        text-align: right;\n",
       "    }\n",
       "</style>\n",
       "<table border=\"1\" class=\"dataframe\">\n",
       "  <thead>\n",
       "    <tr>\n",
       "      <th></th>\n",
       "      <th colspan=\"2\" halign=\"left\">outcome</th>\n",
       "    </tr>\n",
       "    <tr>\n",
       "      <th>protected</th>\n",
       "      <th>F</th>\n",
       "      <th>M</th>\n",
       "    </tr>\n",
       "    <tr>\n",
       "      <th>explanatory</th>\n",
       "      <th></th>\n",
       "      <th></th>\n",
       "    </tr>\n",
       "  </thead>\n",
       "  <tbody>\n",
       "    <tr>\n",
       "      <th>0</th>\n",
       "      <td>0.178218</td>\n",
       "      <td>0.042553</td>\n",
       "    </tr>\n",
       "    <tr>\n",
       "      <th>1</th>\n",
       "      <td>0.130952</td>\n",
       "      <td>0.162162</td>\n",
       "    </tr>\n",
       "    <tr>\n",
       "      <th>2</th>\n",
       "      <td>0.285714</td>\n",
       "      <td>0.375000</td>\n",
       "    </tr>\n",
       "    <tr>\n",
       "      <th>3</th>\n",
       "      <td>0.392523</td>\n",
       "      <td>0.294931</td>\n",
       "    </tr>\n",
       "  </tbody>\n",
       "</table>\n",
       "</div>"
      ],
      "text/plain": [
       "              outcome          \n",
       "protected           F         M\n",
       "explanatory                    \n",
       "0            0.178218  0.042553\n",
       "1            0.130952  0.162162\n",
       "2            0.285714  0.375000\n",
       "3            0.392523  0.294931"
      ]
     },
     "execution_count": 30,
     "metadata": {},
     "output_type": "execute_result"
    }
   ],
   "source": [
    "df_gen.groupby(['explanatory','protected']).mean().unstack()"
   ]
  },
  {
   "cell_type": "code",
   "execution_count": 31,
   "metadata": {},
   "outputs": [
    {
     "data": {
      "text/plain": [
       "[{'F': 0.18, 'M': 0.12},\n",
       " {'F': 0.17, 'M': 0.1},\n",
       " {'F': 0.3, 'M': 0.27},\n",
       " {'F': 0.35, 'M': 0.3}]"
      ]
     },
     "execution_count": 31,
     "metadata": {},
     "output_type": "execute_result"
    }
   ],
   "source": [
    "p_outcome_all"
   ]
  },
  {
   "cell_type": "markdown",
   "metadata": {},
   "source": [
    "There is some disparity there, but lets try with more values of N"
   ]
  },
  {
   "cell_type": "code",
   "execution_count": 32,
   "metadata": {},
   "outputs": [],
   "source": [
    "sp_counts = []\n",
    "n_list = [100,1000,10000]\n",
    "for N_cur in n_list:\n",
    "    for i in range(100):\n",
    "        sp_counts.append(check_sp_rate(gen_rate(N_cur, p_explanatory, p_protected_explanatory,p_outcome_all)))\n",
    "\n",
    "    sp_counts_df = pd.DataFrame(data = sp_counts,columns = set(df_gen['explanatory']))\n",
    "\n",
    "sp_counts_df['count'] = sp_counts_df.sum(axis=1)"
   ]
  },
  {
   "cell_type": "code",
   "execution_count": 33,
   "metadata": {},
   "outputs": [
    {
     "data": {
      "text/plain": [
       "[0.15, 0.2, 0.1, 0.55]"
      ]
     },
     "execution_count": 33,
     "metadata": {},
     "output_type": "execute_result"
    }
   ],
   "source": [
    "p_explanatory\n"
   ]
  },
  {
   "cell_type": "code",
   "execution_count": 34,
   "metadata": {},
   "outputs": [
    {
     "data": {
      "text/plain": [
       "[[0.7, 0.3], [0.8, 0.2], [0.85, 0.15], [0.2, 0.8]]"
      ]
     },
     "execution_count": 34,
     "metadata": {},
     "output_type": "execute_result"
    }
   ],
   "source": [
    "p_protected_explanatory"
   ]
  },
  {
   "cell_type": "code",
   "execution_count": 35,
   "metadata": {},
   "outputs": [
    {
     "data": {
      "text/plain": [
       "[[0.105, 0.045],\n",
       " [0.16000000000000003, 0.04000000000000001],\n",
       " [0.085, 0.015],\n",
       " [0.11000000000000001, 0.44000000000000006]]"
      ]
     },
     "execution_count": 35,
     "metadata": {},
     "output_type": "execute_result"
    }
   ],
   "source": [
    "total_rate = [[portion*g for g in g_breakdown] for portion,g_breakdown in zip(p_explanatory,p_protected_explanatory)]\n",
    "total_rate"
   ]
  },
  {
   "cell_type": "code",
   "execution_count": 36,
   "metadata": {},
   "outputs": [
    {
     "data": {
      "text/plain": [
       "[[0.0189, 0.005399999999999999],\n",
       " [0.02720000000000001, 0.004000000000000001],\n",
       " [0.025500000000000002, 0.00405],\n",
       " [0.0385, 0.132]]"
      ]
     },
     "execution_count": 36,
     "metadata": {},
     "output_type": "execute_result"
    }
   ],
   "source": [
    "total_admit_planned = [ [p*a for p,a in zip(d_p,d_a.values())] for d_p,d_a in zip(total_rate,p_outcome_all)]\n",
    "total_admit_planned"
   ]
  },
  {
   "cell_type": "code",
   "execution_count": 39,
   "metadata": {},
   "outputs": [
    {
     "ename": "NameError",
     "evalue": "name 'total_admit' is not defined",
     "output_type": "error",
     "traceback": [
      "\u001b[0;31m---------------------------------------------------------------------------\u001b[0m",
      "\u001b[0;31mNameError\u001b[0m                                 Traceback (most recent call last)",
      "\u001b[0;32m<ipython-input-39-74c42dedf11f>\u001b[0m in \u001b[0;36m<module>\u001b[0;34m()\u001b[0m\n\u001b[0;32m----> 1\u001b[0;31m \u001b[0mnp\u001b[0m\u001b[0;34m.\u001b[0m\u001b[0msum\u001b[0m\u001b[0;34m(\u001b[0m\u001b[0mnp\u001b[0m\u001b[0;34m.\u001b[0m\u001b[0marray\u001b[0m\u001b[0;34m(\u001b[0m\u001b[0mtotal_admit\u001b[0m\u001b[0;34m)\u001b[0m\u001b[0;34m,\u001b[0m\u001b[0maxis\u001b[0m\u001b[0;34m=\u001b[0m\u001b[0;36m0\u001b[0m\u001b[0;34m)\u001b[0m\u001b[0;34m\u001b[0m\u001b[0m\n\u001b[0m",
      "\u001b[0;31mNameError\u001b[0m: name 'total_admit' is not defined"
     ]
    }
   ],
   "source": [
    "np.sum(np.array(total_admit),axis=0)"
   ]
  },
  {
   "cell_type": "code",
   "execution_count": 40,
   "metadata": {},
   "outputs": [
    {
     "data": {
      "text/plain": [
       "array([0.46, 0.54])"
      ]
     },
     "execution_count": 40,
     "metadata": {},
     "output_type": "execute_result"
    }
   ],
   "source": [
    "np.sum(np.array(total_rate),axis=0)"
   ]
  },
  {
   "cell_type": "code",
   "execution_count": 41,
   "metadata": {},
   "outputs": [
    {
     "ename": "NameError",
     "evalue": "name 'total_admit' is not defined",
     "output_type": "error",
     "traceback": [
      "\u001b[0;31m---------------------------------------------------------------------------\u001b[0m",
      "\u001b[0;31mNameError\u001b[0m                                 Traceback (most recent call last)",
      "\u001b[0;32m<ipython-input-41-48c6d0fed0d5>\u001b[0m in \u001b[0;36m<module>\u001b[0;34m()\u001b[0m\n\u001b[0;32m----> 1\u001b[0;31m \u001b[0mnp\u001b[0m\u001b[0;34m.\u001b[0m\u001b[0msum\u001b[0m\u001b[0;34m(\u001b[0m\u001b[0mnp\u001b[0m\u001b[0;34m.\u001b[0m\u001b[0marray\u001b[0m\u001b[0;34m(\u001b[0m\u001b[0mtotal_admit\u001b[0m\u001b[0;34m)\u001b[0m\u001b[0;34m,\u001b[0m\u001b[0maxis\u001b[0m\u001b[0;34m=\u001b[0m\u001b[0;36m0\u001b[0m\u001b[0;34m)\u001b[0m\u001b[0;34m/\u001b[0m\u001b[0mnp\u001b[0m\u001b[0;34m.\u001b[0m\u001b[0msum\u001b[0m\u001b[0;34m(\u001b[0m\u001b[0mnp\u001b[0m\u001b[0;34m.\u001b[0m\u001b[0marray\u001b[0m\u001b[0;34m(\u001b[0m\u001b[0mtotal_rate\u001b[0m\u001b[0;34m)\u001b[0m\u001b[0;34m,\u001b[0m\u001b[0maxis\u001b[0m\u001b[0;34m=\u001b[0m\u001b[0;36m0\u001b[0m\u001b[0;34m)\u001b[0m\u001b[0;34m\u001b[0m\u001b[0m\n\u001b[0m",
      "\u001b[0;31mNameError\u001b[0m: name 'total_admit' is not defined"
     ]
    }
   ],
   "source": [
    "np.sum(np.array(total_admit),axis=0)/np.sum(np.array(total_rate),axis=0)"
   ]
  },
  {
   "cell_type": "code",
   "execution_count": 42,
   "metadata": {},
   "outputs": [
    {
     "data": {
      "text/plain": [
       "protected\n",
       "F    0.271739\n",
       "M    0.250000\n",
       "Name: outcome, dtype: float64"
      ]
     },
     "execution_count": 42,
     "metadata": {},
     "output_type": "execute_result"
    }
   ],
   "source": [
    " df_gen.groupby('protected')['outcome'].mean()"
   ]
  },
  {
   "cell_type": "markdown",
   "metadata": {},
   "source": [
    "# Sampling the rates\n",
    "\n",
    "We can sample the individuals if we have rates, so now we need to figure ot how to sample the rates tushc that SP happens.\n"
   ]
  },
  {
   "cell_type": "code",
   "execution_count": 37,
   "metadata": {},
   "outputs": [],
   "source": [
    "p_explanatory = np.asarray([.15,.2,.1,.55])\n",
    "#protected, given explantory, largest explantory should have fipped rates\n",
    "# larger subgroup should have opposite protected class balance\n",
    "p_protected_explanatory = np.asarray([[.7, .3],[.8,.2],[.85,.15],[.2,.8]])\n",
    "\n",
    "# need to have higher accept in the larger subgroup,\n",
    "p_outcome_all = [{'F':.18,'M':.12},{'F':.17,'M':.1},\n",
    "                       {'F':.30,'M':.27},{'F':.35,'M':.30}]"
   ]
  },
  {
   "cell_type": "markdown",
   "metadata": {},
   "source": [
    "First, lets compute the expected overall and per dept rates of admission by gender from these probabilities"
   ]
  },
  {
   "cell_type": "code",
   "execution_count": 38,
   "metadata": {},
   "outputs": [
    {
     "data": {
      "text/plain": [
       "[array([0.105, 0.045]),\n",
       " array([0.16, 0.04]),\n",
       " array([0.085, 0.015]),\n",
       " array([0.11, 0.44])]"
      ]
     },
     "execution_count": 38,
     "metadata": {},
     "output_type": "execute_result"
    }
   ],
   "source": [
    "protected_portion_dept = [p_e*p_ep for  p_ep, p_e in zip(p_protected_explanatory,p_explanatory)]\n",
    "protected_portion_dept"
   ]
  },
  {
   "cell_type": "code",
   "execution_count": 39,
   "metadata": {},
   "outputs": [
    {
     "data": {
      "text/plain": [
       "array([0.23934783, 0.26935185])"
      ]
     },
     "execution_count": 39,
     "metadata": {},
     "output_type": "execute_result"
    }
   ],
   "source": [
    "\n",
    "outcome_protected_dept_total = [share*list(p_outcome.values()) for \n",
    "                          p_outcome,share in zip( p_outcome_all,protected_portion_dept)]\n",
    "\n",
    "p_outcome_total = sum(outcome_protected_dept_total)/sum(protected_portion_dept)\n",
    "p_outcome_total"
   ]
  },
  {
   "cell_type": "markdown",
   "metadata": {},
   "source": [
    "This says that SP should occur, we can check below"
   ]
  },
  {
   "cell_type": "code",
   "execution_count": 40,
   "metadata": {},
   "outputs": [
    {
     "data": {
      "text/plain": [
       "1"
      ]
     },
     "execution_count": 40,
     "metadata": {},
     "output_type": "execute_result"
    }
   ],
   "source": [
    "np.argmax(p_outcome_total)"
   ]
  },
  {
   "cell_type": "code",
   "execution_count": 41,
   "metadata": {},
   "outputs": [
    {
     "data": {
      "text/plain": [
       "[0, 0, 0, 0]"
      ]
     },
     "execution_count": 41,
     "metadata": {},
     "output_type": "execute_result"
    }
   ],
   "source": [
    "[np.argmax(exp) for exp in p_outcome_all]"
   ]
  },
  {
   "cell_type": "markdown",
   "metadata": {},
   "source": [
    "So, we expect SP, but as we saw above, it didn't happen every time"
   ]
  },
  {
   "cell_type": "markdown",
   "metadata": {},
   "source": [
    "# Iterative sampling"
   ]
  },
  {
   "cell_type": "code",
   "execution_count": 237,
   "metadata": {},
   "outputs": [
    {
     "data": {
      "text/plain": [
       "array([[0.7259675 , 0.2740325 ],\n",
       "       [0.29833329, 0.70166671],\n",
       "       [0.70091547, 0.29908453],\n",
       "       [0.78208891, 0.21791109]])"
      ]
     },
     "execution_count": 237,
     "metadata": {},
     "output_type": "execute_result"
    }
   ],
   "source": [
    "n_depts = 4\n",
    "p_protected_explanatory = np.random.dirichlet([25,10],n_depts)\n",
    "flip_dept = np.random.choice(n_depts)\n",
    "p_protected_explanatory[flip_dept] = np.flip(p_protected_explanatory[flip_dept],0)\n",
    "p_protected_explanatory"
   ]
  },
  {
   "cell_type": "code",
   "execution_count": 238,
   "metadata": {},
   "outputs": [
    {
     "data": {
      "text/plain": [
       "array([0.0581168 , 0.75252521, 0.02036134, 0.16899666])"
      ]
     },
     "execution_count": 238,
     "metadata": {},
     "output_type": "execute_result"
    }
   ],
   "source": [
    "alpha_dept = [1]*n_depts\n",
    "alpha_dept[flip_dept] = 7.5\n",
    "p_explanatory = np.random.dirichlet(alpha_dept)\n",
    "p_explanatory"
   ]
  },
  {
   "cell_type": "code",
   "execution_count": 239,
   "metadata": {},
   "outputs": [
    {
     "data": {
      "text/plain": [
       "[array([0.04219091, 0.01592589]),\n",
       " array([0.22450332, 0.52802189]),\n",
       " array([0.01427158, 0.00608976]),\n",
       " array([0.13217041, 0.03682625])]"
      ]
     },
     "execution_count": 239,
     "metadata": {},
     "output_type": "execute_result"
    }
   ],
   "source": [
    "protected_portion_dept = [p_e*p_ep for  p_ep, p_e in zip(p_protected_explanatory,p_explanatory)]\n",
    "protected_portion_dept"
   ]
  },
  {
   "cell_type": "code",
   "execution_count": 240,
   "metadata": {},
   "outputs": [
    {
     "data": {
      "text/plain": [
       "array([0.41313622, 0.58686378])"
      ]
     },
     "execution_count": 240,
     "metadata": {},
     "output_type": "execute_result"
    }
   ],
   "source": [
    "sum(protected_portion_dept)"
   ]
  },
  {
   "cell_type": "code",
   "execution_count": 242,
   "metadata": {},
   "outputs": [
    {
     "data": {
      "text/plain": [
       "[{'F': 0.10122997341747773, 'M': 0.03673910297312686},\n",
       " {'F': 0.12473379838978653, 'M': 0.1229974208468655},\n",
       " {'F': 0.2276749948114404, 'M': 0.09321830601697341},\n",
       " {'F': 0.25474275110241185, 'M': 0.08044964239426569}]"
      ]
     },
     "execution_count": 242,
     "metadata": {},
     "output_type": "execute_result"
    }
   ],
   "source": [
    "p_outcome_all_v =  [np.min(np.random.dirichlet([rho*2+1]*3)) for rho in p_explanatory]\n",
    "psi = [p*ps for p, ps in zip(p_outcome_all_v,np.min(np.random.dirichlet([.75]*2,n_depts),axis=1))]\n",
    "psi = [[psi1,-p[0]/p[1]*psi1] for p,psi1 in zip(p_protected_explanatory,psi)]\n",
    "p_outcome_all = [{'F':r+p[0],'M':r+p[1]} for r,p in zip( p_outcome_all_v,psi)]\n",
    "p_outcome_all"
   ]
  },
  {
   "cell_type": "code",
   "execution_count": 309,
   "metadata": {},
   "outputs": [
    {
     "data": {
      "text/plain": [
       "[0.012738227821703023,\n",
       " 0.1262949171811066,\n",
       " 0.12315234329784283,\n",
       " 0.07293366439844567]"
      ]
     },
     "execution_count": 309,
     "metadata": {},
     "output_type": "execute_result"
    }
   ],
   "source": [
    "p_outcome_all_v =  [np.min(np.random.dirichlet([rho*2+1]*3)) for rho in p_explanatory]\n",
    "p_outcome_all_v"
   ]
  },
  {
   "cell_type": "code",
   "execution_count": 310,
   "metadata": {},
   "outputs": [
    {
     "data": {
      "text/plain": [
       "[{'F': 0.01491863901464531, 'M': 0.012738227821703023},\n",
       " {'F': 0.13562971772916244, 'M': 0.1262949171811066},\n",
       " {'F': 0.12699448665783367, 'M': 0.12315234329784283},\n",
       " {'F': 0.10070953112500737, 'M': 0.07293366439844567}]"
      ]
     },
     "execution_count": 310,
     "metadata": {},
     "output_type": "execute_result"
    }
   ],
   "source": [
    "psi = [[min(p)+1, max(p)] for p in np.random.dirichlet([.75]*2,n_depts)]\n",
    "p_outcome_all = [{'F':r*p[0],'M':r} for r,p in zip( p_outcome_all_v,psi)]\n",
    "p_outcome_all"
   ]
  },
  {
   "cell_type": "code",
   "execution_count": 311,
   "metadata": {},
   "outputs": [
    {
     "data": {
      "text/plain": [
       "array([0.11183233, 0.11983222])"
      ]
     },
     "execution_count": 311,
     "metadata": {},
     "output_type": "execute_result"
    }
   ],
   "source": [
    "\n",
    "outcome_protected_dept_total = [share*list(p_outcome.values()) for \n",
    "                          p_outcome,share in zip( p_outcome_all,protected_portion_dept)]\n",
    "\n",
    "p_outcome_total = sum(outcome_protected_dept_total)/sum(protected_portion_dept)\n",
    "p_outcome_total"
   ]
  },
  {
   "cell_type": "code",
   "execution_count": 296,
   "metadata": {},
   "outputs": [
    {
     "data": {
      "text/plain": [
       "[{'F': 0.05407806117378226, 'M': 0.05223938242678653},\n",
       " {'F': 0.29689645189109615, 'M': 0.2418143791857533},\n",
       " {'F': 0.15928054334741978, 'M': 0.14811589625740104},\n",
       " {'F': 0.3089768006784981, 'M': 0.25699089188892477}]"
      ]
     },
     "execution_count": 296,
     "metadata": {},
     "output_type": "execute_result"
    }
   ],
   "source": [
    "p_outcome_all"
   ]
  },
  {
   "cell_type": "code",
   "execution_count": null,
   "metadata": {},
   "outputs": [],
   "source": []
  },
  {
   "cell_type": "code",
   "execution_count": null,
   "metadata": {},
   "outputs": [],
   "source": []
  }
 ],
 "metadata": {
  "kernelspec": {
   "display_name": "Python 3",
   "language": "python",
   "name": "python3"
  },
  "language_info": {
   "codemirror_mode": {
    "name": "ipython",
    "version": 3
   },
   "file_extension": ".py",
   "mimetype": "text/x-python",
   "name": "python",
   "nbconvert_exporter": "python",
   "pygments_lexer": "ipython3",
   "version": "3.6.4"
  }
 },
 "nbformat": 4,
 "nbformat_minor": 2
}
