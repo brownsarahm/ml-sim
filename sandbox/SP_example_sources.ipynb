{
 "cells": [
  {
   "cell_type": "markdown",
   "metadata": {},
   "source": [
    "\n",
    "\n",
    "https://economix.blogs.nytimes.com/2013/05/01/can-every-group-be-worse-than-average-yes/\n",
    "\n",
    "The answer is that the relative size of the groups changed greatly over those 13 years. There are now many more college graduates working than there were then. There are fewer employees with a high school education or less. That changing nature of the work force meant that there are more (higher wage) well-educated people in the overall total now than there had been in 2000.\n",
    "\n",
    "Adding to the population changes is the fact that the percentage of people with jobs has fallen less for college graduates (78.5 percent in 2000, 72.6 percent now) than it has for either high school graduates or people with some college education. The share of high school dropouts with jobs, however, is virtually the same now as it was in 2000.\n",
    "\n",
    "As a result, we can get the following, seemingly unlikely, results:\n",
    "\n",
    "Median change in real weekly wages, 2000-13\n",
    "Total: +0.9%\n",
    "High School Dropouts: -7.9%\n",
    "High School Graduates, No College: -4.7%\n",
    "Some College: -7.6%\n",
    "Bachelor’s or Higher: -1.2%"
   ]
  },
  {
   "cell_type": "markdown",
   "metadata": {},
   "source": [
    "\n",
    "https://www.nytimes.com/2013/04/27/business/economy/wage-disparity-continues-to-grow.html?_r=0\n",
    "\n",
    "\n",
    "he national median wage in the first quarter of this year was $827 a week. In 2013 dollars, the median wage 13 years before was $819, so the increase is about 1 percent. The figures include all workers over the age of 25.\n",
    "\n",
    "The department said that to reach the 90th percentile — that is, to earn more money than 90 percent of those with jobs — a person needed to earn $1,909 a week. That figure was nearly 9 percent higher than in early 1980.\n",
    "\n",
    "To reach the 10th percentile — earning less money than 90 percent of those with jobs — required an income of $387 a week. After adjusting for inflation, that figure is down 3 percent from 2000.\n",
    "\n",
    "The accompanying charts show the trends over time for the 25th and 75th percentiles, as well as the median and the 10th and 90th percentiles.\n",
    "\n",
    "Put another way, in 2000 a worker in the 75th percentile made 48 percent more than a worker at the median, or 50th percentile. Now, a worker in that group earns 58 percent more.\n",
    "\n",
    "The trends have been similar within education groups. The median income of college graduates in the first quarter of this year was $1,189 a week. Adjusted for inflation, that figure was about 1 percent less than the median 13 years earlier. To make the 90th percentile, a college graduate needed to earn $2,585 a week, a figure that is about 8 percent higher than the 2000 earnings needed."
   ]
  },
  {
   "cell_type": "markdown",
   "metadata": {},
   "source": [
    "\n",
    "https://www.bls.gov/bls/news-release/wkyeng.htm#2019"
   ]
  }
 ],
 "metadata": {
  "kernelspec": {
   "display_name": "Python 3",
   "language": "python",
   "name": "python3"
  },
  "language_info": {
   "codemirror_mode": {
    "name": "ipython",
    "version": 3
   },
   "file_extension": ".py",
   "mimetype": "text/x-python",
   "name": "python",
   "nbconvert_exporter": "python",
   "pygments_lexer": "ipython3",
   "version": "3.6.4"
  }
 },
 "nbformat": 4,
 "nbformat_minor": 2
}
